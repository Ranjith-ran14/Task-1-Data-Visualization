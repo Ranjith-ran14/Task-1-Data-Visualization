{
 "cells": [
  {
   "cell_type": "markdown",
   "id": "028d1dc6",
   "metadata": {},
   "source": [
    "# Task 1 - Data Visualization (Prodigy Infotech Internship)\n",
    "\n",
    "## 📊 Population Visualization for Top and Bottom 10 Countries (2022)"
   ]
  },
  {
   "cell_type": "code",
   "execution_count": null,
   "id": "f871bba1",
   "metadata": {},
   "outputs": [],
   "source": [
    "import pandas as pd\n",
    "import matplotlib.pyplot as plt\n",
    "\n",
    "# Dataset: Top and bottom 10 countries by population (2022)\n",
    "data = {\n",
    "    'Country Name': ['China', 'India', 'United States', 'Indonesia', 'Pakistan', 'Nigeria', 'Brazil', 'Bangladesh', 'Russia', 'Mexico',\n",
    "                     'Palau', 'Nauru', 'Tuvalu', 'San Marino', 'Monaco', 'Liechtenstein', 'Saint Kitts and Nevis', 'Marshall Islands', 'Dominica', 'Andorra'],\n",
    "    '2022': [1411750000, 1393409038, 332403650, 276361783, 240485658, 223804632, 216422446, 172954319, 144713314, 129875529,\n",
    "             18100, 12500, 11700, 33900, 39200, 38700, 47000, 42100, 72700, 79000]\n",
    "}\n",
    "df = pd.DataFrame(data)\n",
    "\n",
    "# Sort and view top 10 countries\n",
    "df_top = df.sort_values(by='2022', ascending=False).head(10)\n",
    "print(\"Top 10 Most Populous Countries:\")\n",
    "print(df_top)\n",
    "\n",
    "# Sort and view bottom 10 countries\n",
    "df_bottom = df.sort_values(by='2022', ascending=True).head(10)\n",
    "print(\"\\nBottom 10 Least Populous Countries:\")\n",
    "print(df_bottom)\n"
   ]
  },
  {
   "cell_type": "code",
   "execution_count": null,
   "id": "19930c17",
   "metadata": {},
   "outputs": [],
   "source": [
    "plt.figure(figsize=(10, 5))\n",
    "plt.bar(df_top['Country Name'], df_top['2022'], color='skyblue')\n",
    "plt.title('Top 10 Most Populous Countries in 2022')\n",
    "plt.xlabel('Country')\n",
    "plt.ylabel('Population')\n",
    "plt.xticks(rotation=45)\n",
    "plt.tight_layout()\n",
    "plt.show()\n"
   ]
  },
  {
   "cell_type": "code",
   "execution_count": null,
   "id": "353bce50",
   "metadata": {},
   "outputs": [],
   "source": [
    "plt.figure(figsize=(10, 5))\n",
    "plt.bar(df_bottom['Country Name'], df_bottom['2022'], color='lightcoral')\n",
    "plt.title('Bottom 10 Least Populous Countries in 2022')\n",
    "plt.xlabel('Country')\n",
    "plt.ylabel('Population')\n",
    "plt.xticks(rotation=45)\n",
    "plt.tight_layout()\n",
    "plt.show()\n"
   ]
  }
 ],
 "metadata": {
  "kernelspec": {
   "display_name": "Python 3",
   "language": "python",
   "name": "python3"
  }
 },
 "nbformat": 4,
 "nbformat_minor": 5
}
